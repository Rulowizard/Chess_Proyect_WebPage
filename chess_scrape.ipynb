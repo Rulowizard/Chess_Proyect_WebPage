{
 "cells": [
  {
   "cell_type": "code",
   "execution_count": 1,
   "metadata": {},
   "outputs": [],
   "source": [
    "from splinter import Browser\n",
    "from bs4 import BeautifulSoup as bs\n",
    "import pandas as pd\n",
    "import time"
   ]
  },
  {
   "cell_type": "code",
   "execution_count": 7,
   "metadata": {},
   "outputs": [],
   "source": [
    "def init_browser():\n",
    "    executable_path = {\"executable_path\": \"chromedriver.exe\"}\n",
    "    return Browser(\"chrome\", **executable_path, headless=False)"
   ]
  },
  {
   "cell_type": "code",
   "execution_count": 44,
   "metadata": {},
   "outputs": [
    {
     "name": "stdout",
     "output_type": "stream",
     "text": [
      "a= <a class=\"soliloquy-link\" href=\"https://new.uschess.org/news/nakamura-yu-2019-champs/\" title=\"Jennifer Yu Wins U.S. Women's Champs! Nakamura Wins US Chess Champs!\"><img alt=\"47392449272_6f2feb19ff_k\" class=\"soliloquy-image soliloquy-image-1\" data-soliloquy-src-mobile=\"https://new.uschess.org/wp-content/uploads/2015/07/47392449272_6f2feb19ff_k-600x200_c.jpg\" id=\"soliloquy-image-14874\" src=\"https://new.uschess.org/wp-content/uploads/2015/07/47392449272_6f2feb19ff_k-2700x1112_c.jpg\"/></a>\n",
      "href= https://new.uschess.org/news/nakamura-yu-2019-champs/\n",
      "title= Jennifer Yu Wins U.S. Women's Champs! Nakamura Wins US Chess Champs!\n",
      "image= https://new.uschess.org/wp-content/uploads/2015/07/47392449272_6f2feb19ff_k-2700x1112_c.jpg\n",
      "-----\n",
      "a= <a class=\"soliloquy-link\" href=\"https://new.uschess.org/news/winners-2019-nhs-championship/\" title=\"Results are in at the K-12 Chess Champs: Checa, Stevens &amp; Peng Tie for First\"><img alt=\"Results are in at the K-12 Chess Champs\" class=\"soliloquy-image soliloquy-image-2 soliloquy-preload\" data-soliloquy-src-mobile=\"https://new.uschess.org/wp-content/uploads/2019/03/Matthew-Stevens-2019-NHS-Rosen-600x200_c.jpg\" id=\"soliloquy-image-14719\" src=\"https://new.uschess.org/wp-content/uploads/2019/03/Matthew-Stevens-2019-NHS-Rosen-2700x1112_c.jpg\"/></a>\n",
      "href= https://new.uschess.org/news/winners-2019-nhs-championship/\n",
      "title= Results are in at the K-12 Chess Champs: Checa, Stevens & Peng Tie for First\n",
      "image= https://new.uschess.org/wp-content/uploads/2019/03/Matthew-Stevens-2019-NHS-Rosen-2700x1112_c.jpg\n",
      "-----\n",
      "a= <a class=\"soliloquy-link\" href=\"https://new.uschess.org/news/carlsen-retains-world-championship-title-stunning-rapid-display/\" title=\"Caruana vs. Carlsen Nov 9-28: Magnus Wins in Tiebreak!\"><img alt=\"Caruana Faces Carlsen Nov 9-29\" class=\"soliloquy-image soliloquy-image-3 soliloquy-preload\" data-soliloquy-src-mobile=\"https://new.uschess.org/wp-content/uploads/2015/07/MbPi17CA-600x200_c.jpeg\" id=\"soliloquy-image-12964\" src=\"https://new.uschess.org/wp-content/uploads/2015/07/MbPi17CA-2700x1112_c.jpeg\"/></a>\n",
      "href= https://new.uschess.org/news/carlsen-retains-world-championship-title-stunning-rapid-display/\n",
      "title= Caruana vs. Carlsen Nov 9-28: Magnus Wins in Tiebreak!\n",
      "image= https://new.uschess.org/wp-content/uploads/2015/07/MbPi17CA-2700x1112_c.jpeg\n",
      "-----\n",
      "a= <a class=\"soliloquy-link\" href=\"https://new.uschess.org/news/\" title=\"Nazi Paikidze and Sam Shankland, our Reigning US Champs\"><img alt=\"Nazi Paikidze and Sam Shankland, our new US Champs\" class=\"soliloquy-image soliloquy-image-4 soliloquy-preload\" data-soliloquy-src-mobile=\"https://new.uschess.org/wp-content/uploads/2015/07/27074834927_ce588d100b_k-600x200_c.jpg\" id=\"soliloquy-image-10231\" src=\"https://new.uschess.org/wp-content/uploads/2015/07/27074834927_ce588d100b_k-2700x1112_c.jpg\"/></a>\n",
      "href= https://new.uschess.org/news/\n",
      "title= Nazi Paikidze and Sam Shankland, our Reigning US Champs\n",
      "image= https://new.uschess.org/wp-content/uploads/2015/07/27074834927_ce588d100b_k-2700x1112_c.jpg\n",
      "-----\n",
      "a= <a class=\"soliloquy-link\" href=\"http://new.uschess.org/join-uschess/\" title=\"Building a vibrant and diverse community of chess players and enthusiasts\"><img alt=\"Building a vibrant and diverse community of chess players and enthusiasts\" class=\"soliloquy-image soliloquy-image-5 soliloquy-preload\" data-soliloquy-src-mobile=\"https://new.uschess.org/wp-content/uploads/2015/07/home_become-600x200_c.jpg\" id=\"soliloquy-image-437\" src=\"https://new.uschess.org/wp-content/uploads/2015/07/home_become-2700x1112_c.jpg\"/></a>\n",
      "href= http://new.uschess.org/join-uschess/\n",
      "title= Building a vibrant and diverse community of chess players and enthusiasts\n",
      "image= https://new.uschess.org/wp-content/uploads/2015/07/home_become-2700x1112_c.jpg\n",
      "-----\n",
      "a= <a class=\"soliloquy-link\" href=\"http://new.uschess.org/give/\" title=\"Fostering the expansion of chess in schools and the game's many benefits for today's youth.\"><img alt=\"Fostering the expansion of chess in schools and the game's many benefits for today's youth.\" class=\"soliloquy-image soliloquy-image-6 soliloquy-preload\" data-soliloquy-src-mobile=\"https://new.uschess.org/wp-content/uploads/2015/07/home-give@2x-600x200_c.jpg\" id=\"soliloquy-image-530\" src=\"https://new.uschess.org/wp-content/uploads/2015/07/home-give@2x-2700x1112_c.jpg\"/></a>\n",
      "href= http://new.uschess.org/give/\n",
      "title= Fostering the expansion of chess in schools and the game's many benefits for today's youth.\n",
      "image= https://new.uschess.org/wp-content/uploads/2015/07/home-give@2x-2700x1112_c.jpg\n",
      "-----\n"
     ]
    }
   ],
   "source": [
    "\n",
    "browser = init_browser()\n",
    "\n",
    "hrefs=[]\n",
    "titles=[]\n",
    "images=[]\n",
    "\n",
    "url = \"https://new.uschess.org/home/\"\n",
    "browser.visit(url)\n",
    "\n",
    "html = browser.html\n",
    "soup = bs(html, \"html.parser\")\n",
    "\n",
    "\n",
    "contents = soup.find_all(\"li\", class_=\"soliloquy-item\")\n",
    "\n",
    "for content in contents:\n",
    "    \n",
    "    try:\n",
    "        if (content.a):\n",
    "            a = content.find(\"a\")\n",
    "            href = a[\"href\"]\n",
    "            title = a[\"title\"]\n",
    "            img = a.find(\"img\")\n",
    "            image = img[\"src\"]\n",
    "            \n",
    "            hrefs.append(href)\n",
    "            titles.append(title)\n",
    "            images.append(image)\n",
    "            \n",
    "            print(f\"a= {a}\")\n",
    "            print(f\"href= {href}\")\n",
    "            print(f\"title= {title}\")\n",
    "            print(f\"image= {image}\")\n",
    "            print(\"-----\")\n",
    "    except AttributeError as e:\n",
    "        print(e)\n",
    "\n",
    "browser.quit()\n",
    "\n",
    "    "
   ]
  },
  {
   "cell_type": "code",
   "execution_count": 47,
   "metadata": {},
   "outputs": [
    {
     "name": "stdout",
     "output_type": "stream",
     "text": [
      "6\n",
      "6\n",
      "6\n"
     ]
    }
   ],
   "source": [
    "print(len(hrefs))\n",
    "print(len(titles))\n",
    "print(len(images))"
   ]
  },
  {
   "cell_type": "code",
   "execution_count": null,
   "metadata": {},
   "outputs": [],
   "source": []
  }
 ],
 "metadata": {
  "kernelspec": {
   "display_name": "Python 3",
   "language": "python",
   "name": "python3"
  },
  "language_info": {
   "codemirror_mode": {
    "name": "ipython",
    "version": 3
   },
   "file_extension": ".py",
   "mimetype": "text/x-python",
   "name": "python",
   "nbconvert_exporter": "python",
   "pygments_lexer": "ipython3",
   "version": "3.6.5"
  }
 },
 "nbformat": 4,
 "nbformat_minor": 2
}
